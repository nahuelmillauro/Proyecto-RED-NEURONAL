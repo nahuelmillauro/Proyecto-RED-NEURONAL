{
 "cells": [
  {
   "cell_type": "markdown",
   "id": "99ff6d35",
   "metadata": {},
   "source": [
    "## Implementacion red neuronal (Sklearn)\n",
    "\n"
   ]
  },
  {
   "cell_type": "code",
   "execution_count": 32,
   "id": "77e57cd7",
   "metadata": {},
   "outputs": [
    {
     "name": "stdout",
     "output_type": "stream",
     "text": [
      "[array([[ 1.91849359e+00],\n",
      "       [ 5.19701314e-01],\n",
      "       [ 1.59800084e+00],\n",
      "       [ 1.04502600e-03],\n",
      "       [ 1.40874649e+00],\n",
      "       [-4.58372637e-01],\n",
      "       [-9.51250616e-01]]), array([[3.17430047]])]\n",
      "[array([-1.25107187]), array([-2.62374349])]\n",
      "Puntaje del conjunto de entrenamiento: 0.740697\n",
      "Puntaje del conjunto de prueba: 0.750000\n"
     ]
    }
   ],
   "source": [
    "import pandas as pd\n",
    "\n",
    "from sklearn.model_selection import train_test_split\n",
    "from sklearn.neural_network import MLPClassifier\n",
    "\n",
    "df= pd.read_csv('manzanas_procesado.csv')\n",
    "\n",
    "\n",
    "\n",
    "\n",
    "X = df.values[:, 1:8]\n",
    "Y = df.values[:, -1]\n",
    "\n",
    "X_train, X_test, Y_train, Y_test = train_test_split(X, Y, test_size=1/3)\n",
    "\n",
    "modelo= MLPClassifier(  solver='sgd',\n",
    "                        hidden_layer_sizes=(1, ),\n",
    "                        activation='relu',\n",
    "                        max_iter=35_000,\n",
    "                        learning_rate_init=.01)  \n",
    "\n",
    "\n",
    "modelo.fit(X_train, Y_train)\n",
    "\n",
    "\n",
    "\n",
    "print(modelo.coefs_)\n",
    "print(modelo.intercepts_)\n",
    "\n",
    "print(\"Puntaje del conjunto de entrenamiento: %f\" % modelo.score(X_train, Y_train))\n",
    "print(\"Puntaje del conjunto de prueba: %f\" % modelo.score(X_test, Y_test))"
   ]
  },
  {
   "cell_type": "markdown",
   "id": "6913d6a0",
   "metadata": {},
   "source": [
    "## Comparación de Rendimiento\n",
    "\n",
    "---\n",
    "\n",
    "Ambos modelos (numpy desde cero y el de scikit-learn) logran un rendimiento bastante alto en precisión (accuracy) en el conjunto de prueba. oscilando alrededor del 75%.\n",
    "Utilizan funciones de activación similares (ReLU en la capa oculta y logística/sigmoide en la salida).\n",
    "Ambos muestran una convergencia del error de entrenamiento y validación a lo largo del tiempo.\n",
    "\n",
    "Tiempo de ejecución: scikit-learn es mucho más eficiente y rápido, gracias a MLPClassifier\n",
    "Estabilidad: MLPClassifier maneja mejor la inicialización y ajustes del aprendizaje, evitando fácilmente problemas de sobreajuste o estancamiento del error.\n",
    "Curvas de entrenamiento: En la implementación con numpy, hay más oscilaciones o ruido en las curvas de pérdida,"
   ]
  }
 ],
 "metadata": {
  "kernelspec": {
   "display_name": "Python 3",
   "language": "python",
   "name": "python3"
  },
  "language_info": {
   "codemirror_mode": {
    "name": "ipython",
    "version": 3
   },
   "file_extension": ".py",
   "mimetype": "text/x-python",
   "name": "python",
   "nbconvert_exporter": "python",
   "pygments_lexer": "ipython3",
   "version": "3.13.2"
  }
 },
 "nbformat": 4,
 "nbformat_minor": 5
}
